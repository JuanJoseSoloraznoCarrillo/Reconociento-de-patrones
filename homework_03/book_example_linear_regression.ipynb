{
  "cells": [
    {
      "cell_type": "markdown",
      "metadata": {
        "colab_type": "text",
        "id": "view-in-github"
      },
      "source": [
        "<a href=\"https://colab.research.google.com/github/JuanJoseSolo/RecPatMaster/blob/master/Trabajo_U1/EjemploTrabajoTarea.ipynb\" target=\"_parent\"><img src=\"https://colab.research.google.com/assets/colab-badge.svg\" alt=\"Open In Colab\"/></a>"
      ]
    },
    {
      "cell_type": "markdown",
      "metadata": {
        "id": "0wjX2zPE--_D"
      },
      "source": [
        "**Juan José Solórzano Carrillo**\n"
      ]
    },
    {
      "cell_type": "markdown",
      "metadata": {
        "id": "0AjcC8M9q-Ww"
      },
      "source": [
        "# REGRESIÓN LINEAL MÚLTIPLE\n",
        "\n",
        "En el presente trabajo se implementan las diferentes librerías de Python para calcular un modelo de regresión lineal. Se utiliza el conjunto de datos Computer Hardware para comparar los resultados obtenidos en el artículo \"Attributes of the Performance of Central Processing Units: A Relative Performance Prediction Model\".\n"
      ]
    },
    {
      "cell_type": "code",
      "execution_count": null,
      "metadata": {
        "colab": {
          "base_uri": "https://localhost:8080/"
        },
        "id": "kuv--Jlyw7Xo",
        "outputId": "0c9ac586-95a7-4d49-b76b-f2f1355716d9"
      },
      "outputs": [
        {
          "name": "stdout",
          "output_type": "stream",
          "text": [
            "                            OLS Regression Results                            \n",
            "==============================================================================\n",
            "Dep. Variable:               SQRtPERF   R-squared:                       1.000\n",
            "Model:                            OLS   Adj. R-squared:                  1.000\n",
            "Method:                 Least Squares   F-statistic:                 1.624e+06\n",
            "Date:                Mon, 12 Apr 2021   Prob (F-statistic):          3.29e-234\n",
            "Time:                        08:33:29   Log-Likelihood:                 249.41\n",
            "No. Observations:                 104   AIC:                            -490.8\n",
            "Df Residuals:                     100   BIC:                            -480.2\n",
            "Df Model:                           3                                         \n",
            "Covariance Type:            nonrobust                                         \n",
            "==============================================================================\n",
            "                 coef    std err          t      P>|t|      [0.025      0.975]\n",
            "------------------------------------------------------------------------------\n",
            "Intercept      3.7812      0.003   1103.569      0.000       3.774       3.788\n",
            "MAVG           0.4901      0.001    943.757      0.000       0.489       0.491\n",
            "CACH           0.0300   7.25e-05    413.961      0.000       0.030       0.030\n",
            "CHCAP          0.1894      0.001    217.059      0.000       0.188       0.191\n",
            "==============================================================================\n",
            "Omnibus:                        0.476   Durbin-Watson:                   1.903\n",
            "Prob(Omnibus):                  0.788   Jarque-Bera (JB):                0.377\n",
            "Skew:                          -0.147   Prob(JB):                        0.828\n",
            "Kurtosis:                       2.968   Cond. No.                         78.1\n",
            "==============================================================================\n",
            "\n",
            "Warnings:\n",
            "[1] Standard Errors assume that the covariance matrix of the errors is correctly specified.\n"
          ]
        }
      ],
      "source": [
        "#EJEMPLO PARA EL TRABAJO DE TAREA\n",
        " \n",
        "import pandas as pd\n",
        "import numpy as np\n",
        "from scipy import stats\n",
        "import statsmodels.formula.api as sn\n",
        "from sklearn.model_selection import train_test_split\n",
        " \n",
        "#Cargar doc\n",
        "df_Machine = pd.read_csv('/content/drive/MyDrive/Colab Notebooks/machine2.csv') # Carga el archivo .csv\n",
        "\n",
        "#Transformación de variables \n",
        "df_Machine['CHAVG'] = (((df_Machine['CHMIN'] + df_Machine['CHMAX'])/2)+1).astype(int)\n",
        "df_Machine['CACH']= df_Machine['CACH']#*pow(10,-1)\n",
        "df_Machine['SPEED'] = 1/(df_Machine['MCYT'])\n",
        "df_Machine['CHCAP'] = ((df_Machine['CHAVG']) * (df_Machine['SPEED']))*10\n",
        "df_Machine['MAVG'] = (df_Machine['MMIN'] + df_Machine['MMAX'])/2 * pow(10,-3)\n",
        "df_Machine['SQRtPERF'] = np.sqrt(df_Machine['RELPERF'])\n",
        "\n",
        "df_Machine = df_Machine.loc[:,['MAVG','CACH','CHCAP','SQRtPERF']] # dataset de las variables que se utilizarán\n",
        "#print(df_Machine)\n",
        "\n",
        "\n",
        "(df_train,df_test) = train_test_split(df_Machine, test_size=0.5, train_size=0.5) # Conjunto de entrenamiento\n",
        " \n",
        "model = sn.ols(formula = 'SQRtPERF ~ MAVG + CACH + CHCAP',data = df_train).fit() # Calculo del modelo de cuadrados mínimos\n",
        "print(model.summary())"
      ]
    },
    {
      "cell_type": "markdown",
      "metadata": {
        "id": "tByoqs2OFUvB"
      },
      "source": [
        "# RESULTADOS\n",
        "En el modelo de regresión lineal que se calcula, se pude observar que:\n",
        "\n",
        "\n",
        "\n",
        "> Los coeficientes: \"MAVG\", \"CACH\", \"CHCAP\" e \"Intercept\", corresponden a los valores de beta0, beta1, beta2 y beta3 del modelo de regresión lineal múltiple. Estos valores son muy cercanos a los calculados en el artículo antes mencionado.\n",
        "\n",
        "> El valor de probabilidad para todos los coeficientes es: 0.000, con un valor de significancia de 0.005% existe evidencia significativa para rechazar la hipótesis nula (H0). Por lo tanto, existe una fuerte correlación de las variables.\n",
        "\n",
        "> También se observan los rangos de los coeficientes calculados en el modelo. Con un 95% de confianza se observa que los verdaderos valores de estos coeficientes se encuentran dentro de este rango, es decir, el valor de \"Intercept\" está en el rango de: [3.778 - 3.791].\n",
        "\n",
        "> El coeficiente de correlación \"r\" es 1, lo que significa que existe una fuerte correlación positiva.\n",
        "\n",
        "\n",
        "\n",
        "\n",
        "\n",
        "\n",
        "\n",
        "\n",
        "\n",
        "\n"
      ]
    },
    {
      "cell_type": "code",
      "execution_count": null,
      "metadata": {
        "colab": {
          "base_uri": "https://localhost:8080/",
          "height": 1000
        },
        "id": "Zb220pydBPwO",
        "outputId": "1404d30d-88b4-497f-8734-3841ea4f9f4f"
      },
      "outputs": [
        {
          "name": "stdout",
          "output_type": "stream",
          "text": [
            "> predicted = 5.337922236124887,    actual = 5.291502622129181\n",
            "> predicted = 5.811457937736685,    actual = 5.830951894845301\n",
            "> predicted = 5.275697191916086,    actual = 5.291502622129181\n",
            "> predicted = 7.57119883262318,    actual = 7.54983443527075\n",
            "> predicted = 6.0813557482365415,    actual = 6.082762530298219\n",
            "> predicted = 8.007400789648184,    actual = 8.0\n",
            "> predicted = 6.484265990879319,    actual = 6.48074069840786\n",
            "> predicted = 8.851322791124623,    actual = 8.831760866327848\n",
            "> predicted = 4.1559319707218485,    actual = 4.123105625617661\n",
            "> predicted = 6.416223399720555,    actual = 6.4031242374328485\n",
            "> predicted = 5.910694728332652,    actual = 5.916079783099616\n",
            "> predicted = 5.923225503021202,    actual = 5.916079783099616\n",
            "> predicted = 16.597260639024455,    actual = 16.583123951777\n",
            "> predicted = 9.064198085505572,    actual = 9.055385138137417\n",
            "> predicted = 8.713465160164382,    actual = 8.717797887081348\n",
            "> predicted = 8.621694446814532,    actual = 8.602325267042627\n",
            "> predicted = 7.373415386755243,    actual = 7.3484692283495345\n",
            "> predicted = 4.903384691061319,    actual = 4.898979485566356\n",
            "> predicted = 4.784366888652455,    actual = 4.795831523312719\n",
            "> predicted = 5.599912218209353,    actual = 5.5677643628300215\n",
            "> predicted = 8.01499001461635,    actual = 8.0\n",
            "> predicted = 10.824673616898545,    actual = 10.816653826391969\n",
            "> predicted = 6.370787737008294,    actual = 6.4031242374328485\n",
            "> predicted = 6.434152435515265,    actual = 6.4031242374328485\n",
            "> predicted = 5.341334185341154,    actual = 5.385164807134504\n",
            "> predicted = 11.131998764256217,    actual = 11.135528725660043\n",
            "> predicted = 18.703340670806913,    actual = 18.708286933869708\n",
            "> predicted = 7.078129724121608,    actual = 7.0710678118654755\n",
            "> predicted = 7.269013679137815,    actual = 7.280109889280518\n",
            "> predicted = 4.322030871792404,    actual = 4.358898943540674\n",
            "> predicted = 5.461262008154008,    actual = 5.477225575051661\n",
            "> predicted = 11.238631222835672,    actual = 11.224972160321824\n",
            "> predicted = 19.53839223275462,    actual = 19.544820285692065\n",
            "> predicted = 7.871113436860632,    actual = 7.874007874011811\n",
            "> predicted = 9.064198085505572,    actual = 9.055385138137417\n",
            "> predicted = 4.275517511942056,    actual = 4.242640687119285\n",
            "> predicted = 12.540110851061602,    actual = 12.529964086141668\n",
            "> predicted = 4.46187671068072,    actual = 4.47213595499958\n",
            "> predicted = 15.915275109433617,    actual = 15.905973720586866\n",
            "> predicted = 18.46749701107848,    actual = 18.466185312619388\n",
            "> predicted = 11.74720133182878,    actual = 11.74734012447073\n",
            "> predicted = 5.256194421070813,    actual = 5.291502622129181\n",
            "> predicted = 13.452454958207118,    actual = 13.45362404707371\n",
            "> predicted = 5.035157400558781,    actual = 5.0\n",
            "> predicted = 6.890904082596642,    actual = 6.855654600401044\n",
            "> predicted = 7.063361576185838,    actual = 7.0710678118654755\n",
            "> predicted = 10.11646948900663,    actual = 10.099504938362077\n",
            "> predicted = 4.805553903533603,    actual = 4.795831523312719\n",
            "> predicted = 4.339453194552925,    actual = 4.358898943540674\n",
            "> predicted = 6.340859504034606,    actual = 6.324555320336759\n",
            "> predicted = 8.928371702391043,    actual = 8.94427190999916\n",
            "> predicted = 19.523477251739738,    actual = 19.519221295943137\n",
            "> predicted = 12.193765786438828,    actual = 12.206555615733702\n",
            "> predicted = 9.044485121760847,    actual = 9.055385138137417\n",
            "> predicted = 31.264369020319293,    actual = 31.272991542223778\n",
            "> predicted = 7.274809705305373,    actual = 7.280109889280518\n",
            "> predicted = 5.010411528028616,    actual = 5.0\n",
            "> predicted = 13.53042944176759,    actual = 13.527749258468683\n",
            "> predicted = 4.662023179979624,    actual = 4.69041575982343\n",
            "> predicted = 4.99426787053679,    actual = 5.0\n",
            "> predicted = 13.062487705062903,    actual = 13.076696830622021\n",
            "> predicted = 6.36806722525332,    actual = 6.4031242374328485\n",
            "> predicted = 6.761501997310634,    actual = 6.782329983125268\n",
            "> predicted = 6.623403794240388,    actual = 6.6332495807108\n",
            "> predicted = 4.4155817333363965,    actual = 4.358898943540674\n",
            "> predicted = 4.527833158433648,    actual = 4.47213595499958\n",
            "> predicted = 10.906729495665235,    actual = 10.908712114635714\n",
            "> predicted = 5.811457937736685,    actual = 5.830951894845301\n",
            "> predicted = 7.6793570365967065,    actual = 7.681145747868608\n",
            "> predicted = 5.324308010560078,    actual = 5.291502622129181\n",
            "> predicted = 4.460772112312707,    actual = 4.47213595499958\n",
            "> predicted = 5.3981421014104,    actual = 5.385164807134504\n",
            "> predicted = 5.436014045456565,    actual = 5.477225575051661\n",
            "> predicted = 5.377430070780357,    actual = 5.385164807134504\n",
            "> predicted = 4.215719773746709,    actual = 4.242640687119285\n",
            "> predicted = 13.452454958207118,    actual = 13.45362404707371\n",
            "> predicted = 8.611661630751101,    actual = 8.602325267042627\n",
            "> predicted = 5.811457937736685,    actual = 5.830951894845301\n",
            "> predicted = 9.367173637874886,    actual = 9.38083151964686\n",
            "> predicted = 4.53462268496088,    actual = 4.58257569495584\n",
            "> predicted = 10.945653438157127,    actual = 10.954451150103322\n",
            "> predicted = 4.770882181302684,    actual = 4.795831523312719\n",
            "> predicted = 4.485530693016702,    actual = 4.47213595499958\n",
            "> predicted = 10.618608520112783,    actual = 10.63014581273465\n",
            "> predicted = 5.034870491891764,    actual = 5.0\n",
            "> predicted = 13.477370775161667,    actual = 13.490737563232042\n",
            "> predicted = 5.346198732538549,    actual = 5.385164807134504\n",
            "> predicted = 5.141723476879156,    actual = 5.0990195135927845\n",
            "> predicted = 6.92250349856969,    actual = 6.928203230275509\n",
            "> predicted = 13.222518155069693,    actual = 13.228756555322953\n",
            "> predicted = 7.191165794154033,    actual = 7.211102550927978\n",
            "> predicted = 4.716941624853982,    actual = 4.69041575982343\n",
            "> predicted = 9.769242591308725,    actual = 9.746794344808963\n",
            "> predicted = 4.535297828748228,    actual = 4.58257569495584\n",
            "> predicted = 20.632509387190176,    actual = 20.639767440550294\n",
            "> predicted = 8.19110250168211,    actual = 8.18535277187245\n",
            "> predicted = 8.46804726229292,    actual = 8.48528137423857\n",
            "> predicted = 24.55524445760605,    actual = 24.55605831561735\n",
            "> predicted = 16.351936305122177,    actual = 16.34013463836819\n",
            "> predicted = 5.25086231900865,    actual = 5.291502622129181\n",
            "> predicted = 15.915275109433617,    actual = 15.905973720586866\n",
            "> predicted = 16.424547927165573,    actual = 16.431676725154983\n",
            "> predicted = 8.611661630751101,    actual = 8.602325267042627\n",
            "> predicted = 6.513995955884802,    actual = 6.48074069840786\n"
          ]
        },
        {
          "data": {
            "text/plain": [
              "<matplotlib.axes._subplots.AxesSubplot at 0x7f8fe9e08f10>"
            ]
          },
          "execution_count": 357,
          "metadata": {
            "tags": []
          },
          "output_type": "execute_result"
        },
        {
          "data": {
            "image/png": "[encoded data removed]",
            "text/plain": [
              "<Figure size 864x504 with 1 Axes>"
            ]
          },
          "metadata": {
            "needs_background": "light",
            "tags": []
          },
          "output_type": "display_data"
        },
        {
          "data": {
            "image/png": "[encoded data removed]",
            "text/plain": [
              "<Figure size 864x504 with 1 Axes>"
            ]
          },
          "metadata": {
            "needs_background": "light",
            "tags": []
          },
          "output_type": "display_data"
        },
        {
          "data": {
            "image/png": "[encoded data removed]",
            "text/plain": [
              "<Figure size 864x504 with 1 Axes>"
            ]
          },
          "metadata": {
            "needs_background": "light",
            "tags": []
          },
          "output_type": "display_data"
        }
      ],
      "source": [
        "#GRÁFICAS\n",
        "\n",
        "df_train = df_train.loc[:,['MAVG','CACH','CHCAP','SQRtPERF']] \n",
        "\n",
        "predict = model.predict(df_train)\n",
        "\n",
        "\n",
        "line_scatter = df_train\n",
        "line_scatter['predict'] = predict\n",
        "\n",
        "\n",
        "for i in range(len(df_train)):\n",
        "    pre = predict.iloc[i]\n",
        "    act = df_train['SQRtPERF'].iloc[i]\n",
        "    print('> predicted = '+ str(pre) + ',    actual = '+ str(act))\n",
        "\n",
        "\n",
        "lin = line_scatter.plot.line(x='SQRtPERF',y='predict',color = 'b')\n",
        "line_scatter.plot.scatter(x='SQRtPERF',y='MAVG',color = 'r',ax = lin,figsize = (12,7))\n",
        "\n",
        "lin1 = line_scatter.plot.line(x='SQRtPERF',y='predict',color = 'b')\n",
        "line_scatter.plot.scatter(x='SQRtPERF',y='CACH',color = 'r',ax = lin1,figsize = (12,7))\n",
        "\n",
        "lin2 = line_scatter.plot.line(x='SQRtPERF',y='predict',color = 'b')\n",
        "line_scatter.plot.scatter(x='SQRtPERF',y='CHCAP',color = 'r',ax = lin2,figsize = (12,7))\n",
        "\n"
      ]
    },
    {
      "cell_type": "code",
      "execution_count": null,
      "metadata": {
        "colab": {
          "base_uri": "https://localhost:8080/",
          "height": 1000
        },
        "id": "X7AEM27kbOG7",
        "outputId": "3e0777a7-1bd0-477a-ed7e-90b14e9c1f3c"
      },
      "outputs": [
        {
          "name": "stdout",
          "output_type": "stream",
          "text": [
            "> predicted = 5.337922236124887,    actual = 5.291502622129181\n",
            "> predicted = 5.811457937736685,    actual = 5.830951894845301\n",
            "> predicted = 5.275697191916086,    actual = 5.291502622129181\n",
            "> predicted = 7.57119883262318,    actual = 7.54983443527075\n",
            "> predicted = 6.0813557482365415,    actual = 6.082762530298219\n",
            "> predicted = 8.007400789648184,    actual = 8.0\n",
            "> predicted = 6.484265990879319,    actual = 6.48074069840786\n",
            "> predicted = 8.851322791124623,    actual = 8.831760866327848\n",
            "> predicted = 4.1559319707218485,    actual = 4.123105625617661\n",
            "> predicted = 6.416223399720555,    actual = 6.4031242374328485\n",
            "> predicted = 5.910694728332652,    actual = 5.916079783099616\n",
            "> predicted = 5.923225503021202,    actual = 5.916079783099616\n",
            "> predicted = 16.597260639024455,    actual = 16.583123951777\n",
            "> predicted = 9.064198085505572,    actual = 9.055385138137417\n",
            "> predicted = 8.713465160164382,    actual = 8.717797887081348\n",
            "> predicted = 8.621694446814532,    actual = 8.602325267042627\n",
            "> predicted = 7.373415386755243,    actual = 7.3484692283495345\n",
            "> predicted = 4.903384691061319,    actual = 4.898979485566356\n",
            "> predicted = 4.784366888652455,    actual = 4.795831523312719\n",
            "> predicted = 5.599912218209353,    actual = 5.5677643628300215\n",
            "> predicted = 8.01499001461635,    actual = 8.0\n",
            "> predicted = 10.824673616898545,    actual = 10.816653826391969\n",
            "> predicted = 6.370787737008294,    actual = 6.4031242374328485\n",
            "> predicted = 6.434152435515265,    actual = 6.4031242374328485\n",
            "> predicted = 5.341334185341154,    actual = 5.385164807134504\n",
            "> predicted = 11.131998764256217,    actual = 11.135528725660043\n",
            "> predicted = 18.703340670806913,    actual = 18.708286933869708\n",
            "> predicted = 7.078129724121608,    actual = 7.0710678118654755\n",
            "> predicted = 7.269013679137815,    actual = 7.280109889280518\n",
            "> predicted = 4.322030871792404,    actual = 4.358898943540674\n",
            "> predicted = 5.461262008154008,    actual = 5.477225575051661\n",
            "> predicted = 11.238631222835672,    actual = 11.224972160321824\n",
            "> predicted = 19.53839223275462,    actual = 19.544820285692065\n",
            "> predicted = 7.871113436860632,    actual = 7.874007874011811\n",
            "> predicted = 9.064198085505572,    actual = 9.055385138137417\n",
            "> predicted = 4.275517511942056,    actual = 4.242640687119285\n",
            "> predicted = 12.540110851061602,    actual = 12.529964086141668\n",
            "> predicted = 4.46187671068072,    actual = 4.47213595499958\n",
            "> predicted = 15.915275109433617,    actual = 15.905973720586866\n",
            "> predicted = 18.46749701107848,    actual = 18.466185312619388\n",
            "> predicted = 11.74720133182878,    actual = 11.74734012447073\n",
            "> predicted = 5.256194421070813,    actual = 5.291502622129181\n",
            "> predicted = 13.452454958207118,    actual = 13.45362404707371\n",
            "> predicted = 5.035157400558781,    actual = 5.0\n",
            "> predicted = 6.890904082596642,    actual = 6.855654600401044\n",
            "> predicted = 7.063361576185838,    actual = 7.0710678118654755\n",
            "> predicted = 10.11646948900663,    actual = 10.099504938362077\n",
            "> predicted = 4.805553903533603,    actual = 4.795831523312719\n",
            "> predicted = 4.339453194552925,    actual = 4.358898943540674\n",
            "> predicted = 6.340859504034606,    actual = 6.324555320336759\n",
            "> predicted = 8.928371702391043,    actual = 8.94427190999916\n",
            "> predicted = 19.523477251739738,    actual = 19.519221295943137\n",
            "> predicted = 12.193765786438828,    actual = 12.206555615733702\n",
            "> predicted = 9.044485121760847,    actual = 9.055385138137417\n",
            "> predicted = 31.264369020319293,    actual = 31.272991542223778\n",
            "> predicted = 7.274809705305373,    actual = 7.280109889280518\n",
            "> predicted = 5.010411528028616,    actual = 5.0\n",
            "> predicted = 13.53042944176759,    actual = 13.527749258468683\n",
            "> predicted = 4.662023179979624,    actual = 4.69041575982343\n",
            "> predicted = 4.99426787053679,    actual = 5.0\n",
            "> predicted = 13.062487705062903,    actual = 13.076696830622021\n",
            "> predicted = 6.36806722525332,    actual = 6.4031242374328485\n",
            "> predicted = 6.761501997310634,    actual = 6.782329983125268\n",
            "> predicted = 6.623403794240388,    actual = 6.6332495807108\n",
            "> predicted = 4.4155817333363965,    actual = 4.358898943540674\n",
            "> predicted = 4.527833158433648,    actual = 4.47213595499958\n",
            "> predicted = 10.906729495665235,    actual = 10.908712114635714\n",
            "> predicted = 5.811457937736685,    actual = 5.830951894845301\n",
            "> predicted = 7.6793570365967065,    actual = 7.681145747868608\n",
            "> predicted = 5.324308010560078,    actual = 5.291502622129181\n",
            "> predicted = 4.460772112312707,    actual = 4.47213595499958\n",
            "> predicted = 5.3981421014104,    actual = 5.385164807134504\n",
            "> predicted = 5.436014045456565,    actual = 5.477225575051661\n",
            "> predicted = 5.377430070780357,    actual = 5.385164807134504\n",
            "> predicted = 4.215719773746709,    actual = 4.242640687119285\n",
            "> predicted = 13.452454958207118,    actual = 13.45362404707371\n",
            "> predicted = 8.611661630751101,    actual = 8.602325267042627\n",
            "> predicted = 5.811457937736685,    actual = 5.830951894845301\n",
            "> predicted = 9.367173637874886,    actual = 9.38083151964686\n",
            "> predicted = 4.53462268496088,    actual = 4.58257569495584\n",
            "> predicted = 10.945653438157127,    actual = 10.954451150103322\n",
            "> predicted = 4.770882181302684,    actual = 4.795831523312719\n",
            "> predicted = 4.485530693016702,    actual = 4.47213595499958\n",
            "> predicted = 10.618608520112783,    actual = 10.63014581273465\n",
            "> predicted = 5.034870491891764,    actual = 5.0\n",
            "> predicted = 13.477370775161667,    actual = 13.490737563232042\n",
            "> predicted = 5.346198732538549,    actual = 5.385164807134504\n",
            "> predicted = 5.141723476879156,    actual = 5.0990195135927845\n",
            "> predicted = 6.92250349856969,    actual = 6.928203230275509\n",
            "> predicted = 13.222518155069693,    actual = 13.228756555322953\n",
            "> predicted = 7.191165794154033,    actual = 7.211102550927978\n",
            "> predicted = 4.716941624853982,    actual = 4.69041575982343\n",
            "> predicted = 9.769242591308725,    actual = 9.746794344808963\n",
            "> predicted = 4.535297828748228,    actual = 4.58257569495584\n",
            "> predicted = 20.632509387190176,    actual = 20.639767440550294\n",
            "> predicted = 8.19110250168211,    actual = 8.18535277187245\n",
            "> predicted = 8.46804726229292,    actual = 8.48528137423857\n",
            "> predicted = 24.55524445760605,    actual = 24.55605831561735\n",
            "> predicted = 16.351936305122177,    actual = 16.34013463836819\n",
            "> predicted = 5.25086231900865,    actual = 5.291502622129181\n",
            "> predicted = 15.915275109433617,    actual = 15.905973720586866\n",
            "> predicted = 16.424547927165573,    actual = 16.431676725154983\n",
            "> predicted = 8.611661630751101,    actual = 8.602325267042627\n",
            "> predicted = 6.513995955884802,    actual = 6.48074069840786\n"
          ]
        },
        {
          "data": {
            "text/plain": [
              "<matplotlib.axes._subplots.AxesSubplot at 0x7f8fe9cf3790>"
            ]
          },
          "execution_count": 358,
          "metadata": {
            "tags": []
          },
          "output_type": "execute_result"
        },
        {
          "data": {
            "image/png": "[encoded data removed]",
            "text/plain": [
              "<Figure size 864x504 with 1 Axes>"
            ]
          },
          "metadata": {
            "needs_background": "light",
            "tags": []
          },
          "output_type": "display_data"
        },
        {
          "data": {
            "image/png": "[encoded data removed]",
            "text/plain": [
              "<Figure size 864x504 with 1 Axes>"
            ]
          },
          "metadata": {
            "needs_background": "light",
            "tags": []
          },
          "output_type": "display_data"
        },
        {
          "data": {
            "image/png": "[encoded data removed]",
            "text/plain": [
              "<Figure size 864x504 with 1 Axes>"
            ]
          },
          "metadata": {
            "needs_background": "light",
            "tags": []
          },
          "output_type": "display_data"
        }
      ],
      "source": [
        "# GRÁFICAS \n",
        "df_test = df_train.loc[:,['MAVG','CACH','CHCAP','SQRtPERF']] \n",
        "\n",
        "predict = model.predict(df_test)\n",
        "\n",
        "\n",
        "line_scatter = df_test\n",
        "line_scatter['predict'] = predict\n",
        "\n",
        "\n",
        "for i in range(len(df_test)):\n",
        "    pre = predict.iloc[i]\n",
        "    act = df_train['SQRtPERF'].iloc[i]\n",
        "    print('> predicted = '+ str(pre) + ',    actual = '+ str(act))\n",
        "\n",
        "\n",
        "lin = line_scatter.plot.line(x='SQRtPERF',y='predict',color = 'b')\n",
        "line_scatter.plot.scatter(x='SQRtPERF',y='MAVG',color = 'r',ax = lin,figsize = (12,7))\n",
        "\n",
        "lin1 = line_scatter.plot.line(x='SQRtPERF',y='predict',color = 'b')\n",
        "line_scatter.plot.scatter(x='SQRtPERF',y='CACH',color = 'r',ax = lin1,figsize = (12,7))\n",
        "\n",
        "lin2 = line_scatter.plot.line(x='SQRtPERF',y='predict',color = 'b')\n",
        "line_scatter.plot.scatter(x='SQRtPERF',y='CHCAP',color = 'r',ax = lin2,figsize = (12,7))\n",
        "\n"
      ]
    },
    {
      "cell_type": "markdown",
      "metadata": {
        "id": "cXlEFJIi3_Po"
      },
      "source": [
        "# REGRESIÓN KNN\n",
        "\n",
        "A continuación, se presenta el método de aproximación no paramétrico basado en la técnica de los k-vecinos más cercanos (K-NN), en esta técnica se calculan las predicciones con base a valores cualitativos como lo puede ser una etiqueta. Para la regresión KNN se debe predecir con base a valores cuantitativos.\n",
        "\n",
        "El en siguiente código se presenta el método KNN visto en clase con las modificaciones necesarias para el cálculo de las predicciones."
      ]
    },
    {
      "cell_type": "code",
      "execution_count": null,
      "metadata": {
        "colab": {
          "base_uri": "https://localhost:8080/"
        },
        "id": "xejEe9UQuziG",
        "outputId": "d82378c9-c2ec-4d6d-84b3-17711afce61e"
      },
      "outputs": [
        {
          "name": "stdout",
          "output_type": "stream",
          "text": [
            "> predicted=12.80990691,              actual=15.90597372\n",
            "> predicted=12.80990691,              actual=15.90597372\n",
            "> predicted=12.80990691,              actual=15.90597372\n",
            "> predicted=17.6600948,              actual=19.5192213\n",
            "> predicted=17.6600948,              actual=27.36786437\n",
            "> predicted=17.989545493333335,              actual=35.18522417\n",
            "> predicted=9.908070230666667,              actual=8.366600265\n",
            "> predicted=11.538518250000001,              actual=10.81665383\n",
            "> predicted=4.202795666666666,              actual=3.8729833460000003\n",
            "> predicted=5.2748318613333325,              actual=4.795831523\n",
            "> predicted=6.081280103666667,              actual=5.916079783\n",
            "> predicted=5.291502622,              actual=5.291502622\n",
            "> predicted=4.896138253333333,              actual=4.582575695\n",
            "> predicted=5.291502622,              actual=5.291502622\n",
            "> predicted=4.8961382533333335,              actual=5.291502622\n",
            "> predicted=4.8961382533333335,              actual=5.196152423\n",
            "> predicted=8.365477204000001,              actual=8.602325267000001\n",
            "> predicted=10.994419918333334,              actual=11.66190379\n",
            "> predicted=5.2748318613333325,              actual=4.795831523\n",
            "> predicted=5.596978024333333,              actual=5.385164807000001\n",
            "> predicted=6.349426312666666,              actual=6.633249581\n",
            "> predicted=5.626214157,              actual=5.477225575\n",
            "> predicted=8.295265427333334,              actual=8.602325267000001\n",
            "> predicted=6.349426312666666,              actual=6.403124237\n",
            "> predicted=4.8034273406666665,              actual=4.242640687\n",
            "> predicted=4.395637532333333,              actual=4.358898944\n",
            "> predicted=5.914888773333334,              actual=6.0\n",
            "> predicted=6.266648239333333,              actual=5.477225575\n",
            "> predicted=7.174486865333333,              actual=7.483314774\n",
            "> predicted=5.830951895000001,              actual=5.830951895\n",
            "> predicted=5.830951895000001,              actual=5.830951895\n",
            "> predicted=4.4306517969999994,              actual=4.358898944\n",
            "> predicted=9.908070230666667,              actual=8.660254038\n",
            "> predicted=4.430651797,              actual=4.472135955\n",
            "> predicted=6.979974861666666,              actual=7.348469228\n",
            "> predicted=4.4306517969999994,              actual=4.472135955\n",
            "> predicted=4.760692935333334,              actual=4.795831523\n",
            "> predicted=7.390786062666667,              actual=7.071067812000001\n",
            "> predicted=8.295265427333334,              actual=8.544003745\n",
            "> predicted=4.508949201666667,              actual=4.472135955\n",
            "> predicted=12.80990691,              actual=13.45362405\n",
            "> predicted=7.618551533333334,              actual=9.055385138\n",
            "> predicted=17.6600948,              actual=19.0\n",
            "> predicted=17.6600948,              actual=18.70828693\n",
            "> predicted=8.683291873333333,              actual=14.83239697\n",
            "> predicted=7.618551533333334,              actual=10.63014581\n",
            "> predicted=4.241548419,              actual=3.8729833460000003\n",
            "> predicted=4.508949201666667,              actual=4.582575695\n",
            "> predicted=4.241548419,              actual=4.242640687\n",
            "> predicted=5.627157620333333,              actual=5.291502622\n",
            "> predicted=5.627157620333333,              actual=5.567764362999999\n",
            "> predicted=7.894606652999999,              actual=8.717797887\n",
            "> predicted=4.857051823,              actual=5.099019514\n",
            "> predicted=7.9201725949999995,              actual=8.062257748\n",
            "> predicted=9.79255637,              actual=10.77032961\n",
            "> predicted=4.241548419,              actual=4.242640687\n",
            "> predicted=5.353944078666667,              actual=5.477225575\n",
            "> predicted=6.5798398449999995,              actual=6.633249581\n",
            "> predicted=6.349426312666666,              actual=6.633249581\n",
            "> predicted=8.255162256666667,              actual=9.055385138\n",
            "> predicted=8.255162256666667,              actual=9.055385138\n",
            "> predicted=11.907341875,              actual=11.3137085\n",
            "> predicted=6.243628255,              actual=6.08276253\n",
            "> predicted=8.255162256666667,              actual=6.7823299829999995\n",
            "> predicted=8.184373254,              actual=8.94427191\n",
            "> predicted=8.255162256666667,              actual=9.38083152\n",
            "> predicted=6.139308019666667,              actual=5.744562647\n",
            "> predicted=6.480434486333333,              actual=6.7823299829999995\n",
            "> predicted=5.049601128,              actual=5.385164807000001\n",
            "> predicted=7.068944100333334,              actual=7.280109888999999\n",
            "> predicted=7.068944100333334,              actual=7.280109888999999\n",
            "> predicted=6.830404146666666,              actual=6.403124237\n",
            "> predicted=7.9201725949999995,              actual=9.273618495\n",
            "> predicted=9.908070230666667,              actual=10.34408043\n",
            "> predicted=11.538518250000001,              actual=10.81665383\n",
            "> predicted=11.538518250000001,              actual=10.95445115\n",
            "> predicted=6.480434486333333,              actual=6.92820323\n",
            "> predicted=10.994419918333334,              actual=11.22497216\n",
            "> predicted=15.512586643333336,              actual=16.30950643\n",
            "> predicted=12.23002982,              actual=12.28820573\n",
            "> predicted=15.512586643333336,              actual=16.34013464\n",
            "> predicted=10.444846203333332,              actual=24.55605832\n",
            "> predicted=4.5817091366666665,              actual=4.582575695\n",
            "> predicted=5.19377241,              actual=5.099019514\n",
            "> predicted=6.243628255,              actual=6.403124237\n",
            "> predicted=7.618551533333334,              actual=7.874007874\n",
            "> predicted=7.618551533333334,              actual=8.831760866\n",
            "> predicted=11.538518250000001,              actual=11.91637529\n",
            "> predicted=10.444846203333332,              actual=16.76305461\n",
            "> predicted=4.966326495333333,              actual=5.0\n",
            "> predicted=4.898270336333334,              actual=4.898979486\n",
            "> predicted=4.790371813666667,              actual=5.0\n",
            "> predicted=5.627157620333333,              actual=5.385164807000001\n",
            "> predicted=4.8034273406666665,              actual=4.358898944\n",
            "> predicted=5.627157620333333,              actual=5.567764362999999\n",
            "> predicted=6.480434486333333,              actual=6.8556546\n",
            "> predicted=10.994419918333335,              actual=9.949874371\n",
            "> predicted=8.295265427333334,              actual=8.185352772\n",
            "> predicted=8.192246223,              actual=9.0\n",
            "> predicted=11.538518250000001,              actual=12.20655562\n",
            "> predicted=12.230029819999999,              actual=13.52774926\n",
            "> predicted=17.6600948,              actual=16.58312395\n",
            "> predicted=7.300337378666666,              actual=7.483314774\n",
            "> predicted=11.52726523,              actual=13.49073756\n",
            "> predicted=17.989545493333335,              actual=18.46618531\n",
            "> predicted=17.989545493333335,              actual=18.97366596\n",
            "> predicted=19.90126967666667,              actual=30.31501278\n",
            "> predicted=17.989545493333335,              actual=31.27299154\n",
            "> predicted=4.830214177333334,              actual=4.898979486\n",
            "> predicted=4.898270336333334,              actual=4.898979486\n",
            "> predicted=4.830214177333334,              actual=4.898979486\n",
            "> predicted=4.898270336333334,              actual=4.898979486\n"
          ]
        }
      ],
      "source": [
        "import pandas as pd\n",
        "import random\n",
        "import math\n",
        "\n",
        "#Lee el archivo .csv\n",
        "df = pd.read_csv('/content/drive/MyDrive/Colab Notebooks/machine3.csv')\n",
        "l = df.values.tolist() #lo convertimos a tipo lista\n",
        "\n",
        "# Creamos listas vacíaspara el conjunto de test y el conjunto de entrenamiento\n",
        "test_set = []\n",
        "training_set = []\n",
        "approx_training_perc = 0.5 #porcentaje de datos a utilizar para el entrenamiento\n",
        "\n",
        "# separa, aleatoriamente, un conjunto de instancias como el conjunto entrenamiento\n",
        "# y el resto, será un conjunto de pruebas\n",
        "for instance in l:\n",
        "  if random.random() < approx_training_perc:\n",
        "    training_set.append(instance)\n",
        "  else: \n",
        "    test_set.append(instance)\n",
        "\n",
        "# calcula la distancia euclidiana entre dos instancias\n",
        "def euclidian_distance(instance1, instance2):\n",
        "    dist = 0\n",
        "    for x in range(3):\n",
        "        dist += pow((instance1[x] - instance2[x]), 2)\n",
        "    return math.sqrt(dist)\n",
        "\n",
        "# obtiene los K vecinos mas cercanos\n",
        "def get_neighbors(training_set, test_instance, k):\n",
        "    distances = []\n",
        "    for training_instance in training_set:\n",
        "        dist = euclidian_distance(test_instance, training_instance)\n",
        "        distances.append((dist, training_instance))\n",
        "    distances.sort()\n",
        "    neighbors = []\n",
        "    for i in range(k):\n",
        "        neighbors.append(distances[i][1])\n",
        "    return neighbors\n",
        "\n",
        "# Toma la decisión\n",
        "import operator\n",
        "def take_decision(neighbors):\n",
        "    class_votes = 0\n",
        "    for neighbor in neighbors:\n",
        "        class_votes+=neighbor[-1]\n",
        "        sum = class_votes\n",
        "        deci = sum/len(neighbors)\n",
        "    return deci\n",
        "\n",
        "# Calcular las predicciones\n",
        "predictions=[]\n",
        "k = 3\n",
        "for instance in test_set:\n",
        "    neighbors = get_neighbors(training_set, instance, k)\n",
        "    result = take_decision(neighbors)\n",
        "    predictions.append(result)\n",
        "    print('> predicted=' + str(result) + ',              actual=' + str(instance[-1])) #Imprime en pantalla las predicciones\n",
        "\n"
      ]
    },
    {
      "cell_type": "markdown",
      "metadata": {
        "id": "DMB1zx7H7yl_"
      },
      "source": [
        "# CONCLUSIONES\n",
        "\n",
        "Se puede observar que los modelos aquí presentados en general son buenos. En el modelo de regresión knn, la predicción siempre va a depender de que tan lejos están los vecinos. En el de regresión lineal múltiple este problema no se presenta, por lo que podemos pensar que este último es un poco mejor que el de regresión knn, pero conviene recordar que todo depende del problema a resolver y del conjunto de datos.\n",
        "Una de las claras ventajas que tiene el modelo de regresión lineal multiple respecto al de regresión KNN, por lo menos el presentado aquí, es la fácil implementación e interpretabilidad.  \n"
      ]
    }
  ],
  "metadata": {
    "colab": {
      "authorship_tag": "ABX9TyNhD7rTcxtFbk3cluKcmzuT",
      "collapsed_sections": [
        "DMB1zx7H7yl_"
      ],
      "include_colab_link": true,
      "mount_file_id": "1VzVEi_09G7-z9jPmKg4YVZlRUToRFlYA",
      "name": "EjemploTrabajoTarea.ipynb",
      "provenance": []
    },
    "kernelspec": {
      "display_name": "Python 3",
      "name": "python3"
    },
    "language_info": {
      "name": "python"
    }
  },
  "nbformat": 4,
  "nbformat_minor": 0
}
